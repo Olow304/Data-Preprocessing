{
 "cells": [
  {
   "cell_type": "code",
   "execution_count": 1,
   "metadata": {
    "collapsed": true
   },
   "outputs": [],
   "source": [
    "#import libraries"
   ]
  },
  {
   "cell_type": "code",
   "execution_count": 2,
   "metadata": {
    "collapsed": true
   },
   "outputs": [],
   "source": [
    "import numpy as np\n",
    "import pandas as pd"
   ]
  },
  {
   "cell_type": "code",
   "execution_count": 3,
   "metadata": {
    "collapsed": true
   },
   "outputs": [],
   "source": [
    "d_train = pd.read_csv(\"data/train.csv\")"
   ]
  },
  {
   "cell_type": "code",
   "execution_count": 4,
   "metadata": {},
   "outputs": [
    {
     "data": {
      "text/html": [
       "<div>\n",
       "<style>\n",
       "    .dataframe thead tr:only-child th {\n",
       "        text-align: right;\n",
       "    }\n",
       "\n",
       "    .dataframe thead th {\n",
       "        text-align: left;\n",
       "    }\n",
       "\n",
       "    .dataframe tbody tr th {\n",
       "        vertical-align: top;\n",
       "    }\n",
       "</style>\n",
       "<table border=\"1\" class=\"dataframe\">\n",
       "  <thead>\n",
       "    <tr style=\"text-align: right;\">\n",
       "      <th></th>\n",
       "      <th>PassengerId</th>\n",
       "      <th>Survived</th>\n",
       "      <th>Pclass</th>\n",
       "      <th>Name</th>\n",
       "      <th>Sex</th>\n",
       "      <th>Age</th>\n",
       "      <th>SibSp</th>\n",
       "      <th>Parch</th>\n",
       "      <th>Ticket</th>\n",
       "      <th>Fare</th>\n",
       "      <th>Cabin</th>\n",
       "      <th>Embarked</th>\n",
       "    </tr>\n",
       "  </thead>\n",
       "  <tbody>\n",
       "    <tr>\n",
       "      <th>0</th>\n",
       "      <td>1</td>\n",
       "      <td>0</td>\n",
       "      <td>3</td>\n",
       "      <td>Braund, Mr. Owen Harris</td>\n",
       "      <td>male</td>\n",
       "      <td>22.0</td>\n",
       "      <td>1</td>\n",
       "      <td>0</td>\n",
       "      <td>A/5 21171</td>\n",
       "      <td>7.2500</td>\n",
       "      <td>NaN</td>\n",
       "      <td>S</td>\n",
       "    </tr>\n",
       "    <tr>\n",
       "      <th>1</th>\n",
       "      <td>2</td>\n",
       "      <td>1</td>\n",
       "      <td>1</td>\n",
       "      <td>Cumings, Mrs. John Bradley (Florence Briggs Th...</td>\n",
       "      <td>female</td>\n",
       "      <td>38.0</td>\n",
       "      <td>1</td>\n",
       "      <td>0</td>\n",
       "      <td>PC 17599</td>\n",
       "      <td>71.2833</td>\n",
       "      <td>C85</td>\n",
       "      <td>C</td>\n",
       "    </tr>\n",
       "    <tr>\n",
       "      <th>2</th>\n",
       "      <td>3</td>\n",
       "      <td>1</td>\n",
       "      <td>3</td>\n",
       "      <td>Heikkinen, Miss. Laina</td>\n",
       "      <td>female</td>\n",
       "      <td>26.0</td>\n",
       "      <td>0</td>\n",
       "      <td>0</td>\n",
       "      <td>STON/O2. 3101282</td>\n",
       "      <td>7.9250</td>\n",
       "      <td>NaN</td>\n",
       "      <td>S</td>\n",
       "    </tr>\n",
       "  </tbody>\n",
       "</table>\n",
       "</div>"
      ],
      "text/plain": [
       "   PassengerId  Survived  Pclass  \\\n",
       "0            1         0       3   \n",
       "1            2         1       1   \n",
       "2            3         1       3   \n",
       "\n",
       "                                                Name     Sex   Age  SibSp  \\\n",
       "0                            Braund, Mr. Owen Harris    male  22.0      1   \n",
       "1  Cumings, Mrs. John Bradley (Florence Briggs Th...  female  38.0      1   \n",
       "2                             Heikkinen, Miss. Laina  female  26.0      0   \n",
       "\n",
       "   Parch            Ticket     Fare Cabin Embarked  \n",
       "0      0         A/5 21171   7.2500   NaN        S  \n",
       "1      0          PC 17599  71.2833   C85        C  \n",
       "2      0  STON/O2. 3101282   7.9250   NaN        S  "
      ]
     },
     "execution_count": 4,
     "metadata": {},
     "output_type": "execute_result"
    }
   ],
   "source": [
    "#read only head\n",
    "d_train.head(3)"
   ]
  },
  {
   "cell_type": "code",
   "execution_count": 5,
   "metadata": {
    "collapsed": true
   },
   "outputs": [],
   "source": [
    "#cleaning data\n",
    "d_train = d_train.drop('Name', axis=1)\n",
    "d_train = d_train.drop('Ticket', axis=1)\n",
    "d_train = d_train.drop('Cabin', axis=1)\n",
    "d_train = d_train.drop('PassengerId', axis=1)"
   ]
  },
  {
   "cell_type": "code",
   "execution_count": 6,
   "metadata": {},
   "outputs": [
    {
     "name": "stdout",
     "output_type": "stream",
     "text": [
      "0    549\n",
      "1    342\n",
      "Name: Survived, dtype: int64\n"
     ]
    }
   ],
   "source": [
    "#take a look at the outcome variable: 'survival'\n",
    "print(d_train['Survived'].value_counts())"
   ]
  },
  {
   "cell_type": "code",
   "execution_count": 7,
   "metadata": {
    "collapsed": true
   },
   "outputs": [],
   "source": [
    "#assign X as a dataframe of features and y as a series of the outcome variable\n",
    "X = d_train.drop('Survived', axis=1)\n",
    "y = d_train.Survived"
   ]
  },
  {
   "cell_type": "code",
   "execution_count": 8,
   "metadata": {},
   "outputs": [
    {
     "name": "stdout",
     "output_type": "stream",
     "text": [
      "   C  Q  S\n",
      "0  0  0  1\n",
      "1  1  0  0\n",
      "2  0  0  1\n",
      "3  0  0  1\n",
      "4  0  0  1\n"
     ]
    }
   ],
   "source": [
    "print(pd.get_dummies(X['Embarked']).head(5))"
   ]
  },
  {
   "cell_type": "code",
   "execution_count": 9,
   "metadata": {},
   "outputs": [
    {
     "data": {
      "text/html": [
       "<div>\n",
       "<style>\n",
       "    .dataframe thead tr:only-child th {\n",
       "        text-align: right;\n",
       "    }\n",
       "\n",
       "    .dataframe thead th {\n",
       "        text-align: left;\n",
       "    }\n",
       "\n",
       "    .dataframe tbody tr th {\n",
       "        vertical-align: top;\n",
       "    }\n",
       "</style>\n",
       "<table border=\"1\" class=\"dataframe\">\n",
       "  <thead>\n",
       "    <tr style=\"text-align: right;\">\n",
       "      <th></th>\n",
       "      <th>Pclass</th>\n",
       "      <th>Sex</th>\n",
       "      <th>Age</th>\n",
       "      <th>SibSp</th>\n",
       "      <th>Parch</th>\n",
       "      <th>Fare</th>\n",
       "      <th>Embarked</th>\n",
       "    </tr>\n",
       "  </thead>\n",
       "  <tbody>\n",
       "    <tr>\n",
       "      <th>0</th>\n",
       "      <td>3</td>\n",
       "      <td>male</td>\n",
       "      <td>22.0</td>\n",
       "      <td>1</td>\n",
       "      <td>0</td>\n",
       "      <td>7.2500</td>\n",
       "      <td>S</td>\n",
       "    </tr>\n",
       "    <tr>\n",
       "      <th>1</th>\n",
       "      <td>1</td>\n",
       "      <td>female</td>\n",
       "      <td>38.0</td>\n",
       "      <td>1</td>\n",
       "      <td>0</td>\n",
       "      <td>71.2833</td>\n",
       "      <td>C</td>\n",
       "    </tr>\n",
       "    <tr>\n",
       "      <th>2</th>\n",
       "      <td>3</td>\n",
       "      <td>female</td>\n",
       "      <td>26.0</td>\n",
       "      <td>0</td>\n",
       "      <td>0</td>\n",
       "      <td>7.9250</td>\n",
       "      <td>S</td>\n",
       "    </tr>\n",
       "    <tr>\n",
       "      <th>3</th>\n",
       "      <td>1</td>\n",
       "      <td>female</td>\n",
       "      <td>35.0</td>\n",
       "      <td>1</td>\n",
       "      <td>0</td>\n",
       "      <td>53.1000</td>\n",
       "      <td>S</td>\n",
       "    </tr>\n",
       "    <tr>\n",
       "      <th>4</th>\n",
       "      <td>3</td>\n",
       "      <td>male</td>\n",
       "      <td>35.0</td>\n",
       "      <td>0</td>\n",
       "      <td>0</td>\n",
       "      <td>8.0500</td>\n",
       "      <td>S</td>\n",
       "    </tr>\n",
       "    <tr>\n",
       "      <th>5</th>\n",
       "      <td>3</td>\n",
       "      <td>male</td>\n",
       "      <td>NaN</td>\n",
       "      <td>0</td>\n",
       "      <td>0</td>\n",
       "      <td>8.4583</td>\n",
       "      <td>Q</td>\n",
       "    </tr>\n",
       "    <tr>\n",
       "      <th>6</th>\n",
       "      <td>1</td>\n",
       "      <td>male</td>\n",
       "      <td>54.0</td>\n",
       "      <td>0</td>\n",
       "      <td>0</td>\n",
       "      <td>51.8625</td>\n",
       "      <td>S</td>\n",
       "    </tr>\n",
       "    <tr>\n",
       "      <th>7</th>\n",
       "      <td>3</td>\n",
       "      <td>male</td>\n",
       "      <td>2.0</td>\n",
       "      <td>3</td>\n",
       "      <td>1</td>\n",
       "      <td>21.0750</td>\n",
       "      <td>S</td>\n",
       "    </tr>\n",
       "    <tr>\n",
       "      <th>8</th>\n",
       "      <td>3</td>\n",
       "      <td>female</td>\n",
       "      <td>27.0</td>\n",
       "      <td>0</td>\n",
       "      <td>2</td>\n",
       "      <td>11.1333</td>\n",
       "      <td>S</td>\n",
       "    </tr>\n",
       "    <tr>\n",
       "      <th>9</th>\n",
       "      <td>2</td>\n",
       "      <td>female</td>\n",
       "      <td>14.0</td>\n",
       "      <td>1</td>\n",
       "      <td>0</td>\n",
       "      <td>30.0708</td>\n",
       "      <td>C</td>\n",
       "    </tr>\n",
       "  </tbody>\n",
       "</table>\n",
       "</div>"
      ],
      "text/plain": [
       "   Pclass     Sex   Age  SibSp  Parch     Fare Embarked\n",
       "0       3    male  22.0      1      0   7.2500        S\n",
       "1       1  female  38.0      1      0  71.2833        C\n",
       "2       3  female  26.0      0      0   7.9250        S\n",
       "3       1  female  35.0      1      0  53.1000        S\n",
       "4       3    male  35.0      0      0   8.0500        S\n",
       "5       3    male   NaN      0      0   8.4583        Q\n",
       "6       1    male  54.0      0      0  51.8625        S\n",
       "7       3    male   2.0      3      1  21.0750        S\n",
       "8       3  female  27.0      0      2  11.1333        S\n",
       "9       2  female  14.0      1      0  30.0708        C"
      ]
     },
     "execution_count": 9,
     "metadata": {},
     "output_type": "execute_result"
    }
   ],
   "source": [
    "X.head(10)"
   ]
  },
  {
   "cell_type": "code",
   "execution_count": 10,
   "metadata": {
    "collapsed": true
   },
   "outputs": [],
   "source": [
    "all_cal = ['Sex', 'Embarked']"
   ]
  },
  {
   "cell_type": "code",
   "execution_count": 11,
   "metadata": {
    "collapsed": true
   },
   "outputs": [],
   "source": [
    "#impute all the categorical variables\n",
    "def dummy_df(df, all_cal):\n",
    "    for x in all_cal:\n",
    "        dummies = pd.get_dummies(df[x], prefix=x, dummy_na=False)\n",
    "        df = df.drop(x, 1)\n",
    "        df = pd.concat([df, dummies], axis=1)\n",
    "    return df"
   ]
  },
  {
   "cell_type": "code",
   "execution_count": 12,
   "metadata": {
    "collapsed": true
   },
   "outputs": [],
   "source": [
    "X = dummy_df(X, all_cal)"
   ]
  },
  {
   "cell_type": "code",
   "execution_count": 13,
   "metadata": {},
   "outputs": [
    {
     "name": "stdout",
     "output_type": "stream",
     "text": [
      "   Pclass   Age  SibSp  Parch     Fare  Sex_female  Sex_male  Embarked_C  \\\n",
      "0       3  22.0      1      0   7.2500           0         1           0   \n",
      "1       1  38.0      1      0  71.2833           1         0           1   \n",
      "2       3  26.0      0      0   7.9250           1         0           0   \n",
      "\n",
      "   Embarked_Q  Embarked_S  \n",
      "0           0           1  \n",
      "1           0           0  \n",
      "2           0           1  \n"
     ]
    }
   ],
   "source": [
    "print(X.head(3))"
   ]
  },
  {
   "cell_type": "code",
   "execution_count": 14,
   "metadata": {},
   "outputs": [
    {
     "data": {
      "text/plain": [
       "Age           177\n",
       "Embarked_S      0\n",
       "Embarked_Q      0\n",
       "Embarked_C      0\n",
       "Sex_male        0\n",
       "Sex_female      0\n",
       "Fare            0\n",
       "Parch           0\n",
       "SibSp           0\n",
       "Pclass          0\n",
       "dtype: int64"
      ]
     },
     "execution_count": 14,
     "metadata": {},
     "output_type": "execute_result"
    }
   ],
   "source": [
    "#show how much data is missing\n",
    "X.isnull().sum().sort_values(ascending=False)"
   ]
  },
  {
   "cell_type": "code",
   "execution_count": 15,
   "metadata": {
    "collapsed": true
   },
   "outputs": [],
   "source": [
    "# Impute missing values using sklean imputer library\n",
    "from sklearn.preprocessing import Imputer\n",
    "imputer = Imputer(missing_values='NaN', strategy='median', axis=0)\n",
    "imputer.fit(X)\n",
    "X = pd.DataFrame(data=imputer.transform(X), columns=X.columns)"
   ]
  },
  {
   "cell_type": "code",
   "execution_count": 16,
   "metadata": {},
   "outputs": [
    {
     "data": {
      "text/plain": [
       "Embarked_S    0\n",
       "Embarked_Q    0\n",
       "Embarked_C    0\n",
       "Sex_male      0\n",
       "Sex_female    0\n",
       "Fare          0\n",
       "Parch         0\n",
       "SibSp         0\n",
       "Age           0\n",
       "Pclass        0\n",
       "dtype: int64"
      ]
     },
     "execution_count": 16,
     "metadata": {},
     "output_type": "execute_result"
    }
   ],
   "source": [
    "#show how much data is missing - after imputer\n",
    "X.isnull().sum().sort_values(ascending=False)"
   ]
  },
  {
   "cell_type": "code",
   "execution_count": 17,
   "metadata": {
    "collapsed": true
   },
   "outputs": [],
   "source": [
    "#find outliers\n",
    "def find_outliers(x):\n",
    "    q1 = np.percentile(x, 25)\n",
    "    q3 = np.percentile(x, 75)\n",
    "    iqr = q3 - q1\n",
    "    floor = q1 - 1.5*iqr\n",
    "    ceiling = q3 + 1.5*iqr\n",
    "    outlier_indices = list(x.index[(x < floor) | (x > ceiling)])\n",
    "    outlier_values = list(x[outlier_indices])\n",
    "    \n",
    "    return outlier_indices, outlier_values"
   ]
  },
  {
   "cell_type": "code",
   "execution_count": 18,
   "metadata": {},
   "outputs": [
    {
     "name": "stdout",
     "output_type": "stream",
     "text": [
      "[  0.42   0.67   0.75   0.75   0.83   0.83   0.92   1.     1.     1.     1.\n",
      "   1.     1.     1.     2.     2.     2.     2.     2.     2.     2.     2.\n",
      "   2.     2.    55.    55.    55.5   56.    56.    56.    56.    57.    57.\n",
      "  58.    58.    58.    58.    58.    59.    59.    60.    60.    60.    60.\n",
      "  61.    61.    61.    62.    62.    62.    62.    63.    63.    64.    64.\n",
      "  65.    65.    65.    66.    70.    70.    70.5   71.    71.    74.    80.  ]\n"
     ]
    }
   ],
   "source": [
    "tukey_indices, tudey_values = find_outliers(X['Age'])\n",
    "print(np.sort(tudey_values))"
   ]
  },
  {
   "cell_type": "code",
   "execution_count": 19,
   "metadata": {
    "collapsed": true
   },
   "outputs": [],
   "source": [
    "#Kernel Density Estimation\n",
    "from sklearn.preprocessing import scale\n",
    "from statsmodels.nonparametric.kde import KDEUnivariate\n",
    "\n",
    "def find_kde(x):\n",
    "    x_scaled = scale(list(map(float, x)))\n",
    "    kde = KDEUnivariate(x_scaled)\n",
    "    kde.fit(bw=\"scott\", fft=True)\n",
    "    pred = kde.evaluate(x_scaled)\n",
    "    \n",
    "    n = sum(pred < 0.05)\n",
    "    outlier_ind = np.asarray(pred).argsort()[:n]\n",
    "    outlier_value = np.asarray(x)[outlier_ind]\n",
    "    return outlier_ind, outlier_value"
   ]
  },
  {
   "cell_type": "code",
   "execution_count": 20,
   "metadata": {},
   "outputs": [
    {
     "name": "stdout",
     "output_type": "stream",
     "text": [
      "[ 59.   59.   60.   60.   60.   60.   61.   61.   61.   62.   62.   62.\n",
      "  62.   63.   63.   64.   64.   65.   65.   65.   66.   70.   70.   70.5\n",
      "  71.   71.   74.   80. ]\n"
     ]
    }
   ],
   "source": [
    "kde_indices, kde_values = find_kde(X['Age'])\n",
    "print(np.sort(kde_values))"
   ]
  },
  {
   "cell_type": "code",
   "execution_count": 21,
   "metadata": {
    "collapsed": true
   },
   "outputs": [],
   "source": [
    "# doing some graphing\n",
    "import matplotlib.pyplot as plt\n",
    "def plot_hist(x):\n",
    "    plt.hist(x, color='gray', alpha=0.5)\n",
    "    plt.title(\"History of '{var_name}'\".format(var_name=x.name))\n",
    "    plt.xlabel('Value')\n",
    "    plt.ylabel('Frequency')\n",
    "    plt.show()"
   ]
  },
  {
   "cell_type": "code",
   "execution_count": 22,
   "metadata": {},
   "outputs": [
    {
     "data": {
      "image/png": "[encoded data removed]",
      "text/plain": [
       "<matplotlib.figure.Figure at 0x17e045bd7f0>"
      ]
     },
     "metadata": {},
     "output_type": "display_data"
    }
   ],
   "source": [
    "plot_hist(X['Age'])"
   ]
  },
  {
   "cell_type": "code",
   "execution_count": 23,
   "metadata": {
    "collapsed": true
   },
   "outputs": [],
   "source": [
    "# plot hist to shoe distribution of features by outcome categories\n",
    "def plot_hist_d(x,y):\n",
    "    plt.hist(list(x[y==0]), alpha=0.5, label='die')\n",
    "    plt.hist(list(x[y==1]), alpha=0.5, label='survived')\n",
    "    plt.title(\"histogram of '{var_name}' by outcome category\".format(var_name=x.name))\n",
    "    plt.xlabel(\"Value\")\n",
    "    plt.ylabel(\"Frequency\")\n",
    "    plt.legend(loc='upper right')\n",
    "    plt.show()"
   ]
  },
  {
   "cell_type": "code",
   "execution_count": 24,
   "metadata": {},
   "outputs": [
    {
     "data": {
      "image/png": "[encoded data removed]",
      "text/plain": [
       "<matplotlib.figure.Figure at 0x17e045bd518>"
      ]
     },
     "metadata": {},
     "output_type": "display_data"
    }
   ],
   "source": [
    "plot_hist_d(X['Age'],y)"
   ]
  },
  {
   "cell_type": "code",
   "execution_count": 25,
   "metadata": {
    "collapsed": true
   },
   "outputs": [],
   "source": [
    "# creating interactions between features\n",
    "from itertools import combinations\n",
    "from sklearn.preprocessing import PolynomialFeatures\n",
    "\n",
    "def add_features(df):\n",
    "    # first - get feature names\n",
    "    combos = list(combinations(list(df.columns), 2))\n",
    "    colnames = list(df.columns) + ['_'.join(x) for x in combos]\n",
    "    \n",
    "    # second - find interactions\n",
    "    poly = PolynomialFeatures(interaction_only=True, include_bias=False)\n",
    "    df = poly.fit_transform(df)\n",
    "    df = pd.DataFrame(df)\n",
    "    df.columns = colnames\n",
    "    \n",
    "    # last - remove interaction terms with all 0 values\n",
    "    noint_indices = [i for i, x in  enumerate(list((df == 0).all()))if x]\n",
    "    return df"
   ]
  },
  {
   "cell_type": "code",
   "execution_count": 26,
   "metadata": {},
   "outputs": [
    {
     "name": "stdout",
     "output_type": "stream",
     "text": [
      "    Pclass   Age  SibSp  Parch      Fare  Sex_female  Sex_male  Embarked_C  \\\n",
      "0      3.0  22.0    1.0    0.0    7.2500         0.0       1.0         0.0   \n",
      "1      1.0  38.0    1.0    0.0   71.2833         1.0       0.0         1.0   \n",
      "2      3.0  26.0    0.0    0.0    7.9250         1.0       0.0         0.0   \n",
      "3      1.0  35.0    1.0    0.0   53.1000         1.0       0.0         0.0   \n",
      "4      3.0  35.0    0.0    0.0    8.0500         0.0       1.0         0.0   \n",
      "5      3.0  28.0    0.0    0.0    8.4583         0.0       1.0         0.0   \n",
      "6      1.0  54.0    0.0    0.0   51.8625         0.0       1.0         0.0   \n",
      "7      3.0   2.0    3.0    1.0   21.0750         0.0       1.0         0.0   \n",
      "8      3.0  27.0    0.0    2.0   11.1333         1.0       0.0         0.0   \n",
      "9      2.0  14.0    1.0    0.0   30.0708         1.0       0.0         1.0   \n",
      "10     3.0   4.0    1.0    1.0   16.7000         1.0       0.0         0.0   \n",
      "11     1.0  58.0    0.0    0.0   26.5500         1.0       0.0         0.0   \n",
      "12     3.0  20.0    0.0    0.0    8.0500         0.0       1.0         0.0   \n",
      "13     3.0  39.0    1.0    5.0   31.2750         0.0       1.0         0.0   \n",
      "14     3.0  14.0    0.0    0.0    7.8542         1.0       0.0         0.0   \n",
      "15     2.0  55.0    0.0    0.0   16.0000         1.0       0.0         0.0   \n",
      "16     3.0   2.0    4.0    1.0   29.1250         0.0       1.0         0.0   \n",
      "17     2.0  28.0    0.0    0.0   13.0000         0.0       1.0         0.0   \n",
      "18     3.0  31.0    1.0    0.0   18.0000         1.0       0.0         0.0   \n",
      "19     3.0  28.0    0.0    0.0    7.2250         1.0       0.0         1.0   \n",
      "20     2.0  35.0    0.0    0.0   26.0000         0.0       1.0         0.0   \n",
      "21     2.0  34.0    0.0    0.0   13.0000         0.0       1.0         0.0   \n",
      "22     3.0  15.0    0.0    0.0    8.0292         1.0       0.0         0.0   \n",
      "23     1.0  28.0    0.0    0.0   35.5000         0.0       1.0         0.0   \n",
      "24     3.0   8.0    3.0    1.0   21.0750         1.0       0.0         0.0   \n",
      "25     3.0  38.0    1.0    5.0   31.3875         1.0       0.0         0.0   \n",
      "26     3.0  28.0    0.0    0.0    7.2250         0.0       1.0         1.0   \n",
      "27     1.0  19.0    3.0    2.0  263.0000         0.0       1.0         0.0   \n",
      "28     3.0  28.0    0.0    0.0    7.8792         1.0       0.0         0.0   \n",
      "29     3.0  28.0    0.0    0.0    7.8958         0.0       1.0         0.0   \n",
      "30     1.0  40.0    0.0    0.0   27.7208         0.0       1.0         1.0   \n",
      "31     1.0  28.0    1.0    0.0  146.5208         1.0       0.0         1.0   \n",
      "32     3.0  28.0    0.0    0.0    7.7500         1.0       0.0         0.0   \n",
      "33     2.0  66.0    0.0    0.0   10.5000         0.0       1.0         0.0   \n",
      "34     1.0  28.0    1.0    0.0   82.1708         0.0       1.0         1.0   \n",
      "35     1.0  42.0    1.0    0.0   52.0000         0.0       1.0         0.0   \n",
      "36     3.0  28.0    0.0    0.0    7.2292         0.0       1.0         1.0   \n",
      "37     3.0  21.0    0.0    0.0    8.0500         0.0       1.0         0.0   \n",
      "38     3.0  18.0    2.0    0.0   18.0000         1.0       0.0         0.0   \n",
      "39     3.0  14.0    1.0    0.0   11.2417         1.0       0.0         1.0   \n",
      "\n",
      "    Embarked_Q  Embarked_S          ...            Sex_female_Sex_male  \\\n",
      "0          0.0         1.0          ...                            0.0   \n",
      "1          0.0         0.0          ...                            0.0   \n",
      "2          0.0         1.0          ...                            0.0   \n",
      "3          0.0         1.0          ...                            0.0   \n",
      "4          0.0         1.0          ...                            0.0   \n",
      "5          1.0         0.0          ...                            0.0   \n",
      "6          0.0         1.0          ...                            0.0   \n",
      "7          0.0         1.0          ...                            0.0   \n",
      "8          0.0         1.0          ...                            0.0   \n",
      "9          0.0         0.0          ...                            0.0   \n",
      "10         0.0         1.0          ...                            0.0   \n",
      "11         0.0         1.0          ...                            0.0   \n",
      "12         0.0         1.0          ...                            0.0   \n",
      "13         0.0         1.0          ...                            0.0   \n",
      "14         0.0         1.0          ...                            0.0   \n",
      "15         0.0         1.0          ...                            0.0   \n",
      "16         1.0         0.0          ...                            0.0   \n",
      "17         0.0         1.0          ...                            0.0   \n",
      "18         0.0         1.0          ...                            0.0   \n",
      "19         0.0         0.0          ...                            0.0   \n",
      "20         0.0         1.0          ...                            0.0   \n",
      "21         0.0         1.0          ...                            0.0   \n",
      "22         1.0         0.0          ...                            0.0   \n",
      "23         0.0         1.0          ...                            0.0   \n",
      "24         0.0         1.0          ...                            0.0   \n",
      "25         0.0         1.0          ...                            0.0   \n",
      "26         0.0         0.0          ...                            0.0   \n",
      "27         0.0         1.0          ...                            0.0   \n",
      "28         1.0         0.0          ...                            0.0   \n",
      "29         0.0         1.0          ...                            0.0   \n",
      "30         0.0         0.0          ...                            0.0   \n",
      "31         0.0         0.0          ...                            0.0   \n",
      "32         1.0         0.0          ...                            0.0   \n",
      "33         0.0         1.0          ...                            0.0   \n",
      "34         0.0         0.0          ...                            0.0   \n",
      "35         0.0         1.0          ...                            0.0   \n",
      "36         0.0         0.0          ...                            0.0   \n",
      "37         0.0         1.0          ...                            0.0   \n",
      "38         0.0         1.0          ...                            0.0   \n",
      "39         0.0         0.0          ...                            0.0   \n",
      "\n",
      "    Sex_female_Embarked_C  Sex_female_Embarked_Q  Sex_female_Embarked_S  \\\n",
      "0                     0.0                    0.0                    0.0   \n",
      "1                     1.0                    0.0                    0.0   \n",
      "2                     0.0                    0.0                    1.0   \n",
      "3                     0.0                    0.0                    1.0   \n",
      "4                     0.0                    0.0                    0.0   \n",
      "5                     0.0                    0.0                    0.0   \n",
      "6                     0.0                    0.0                    0.0   \n",
      "7                     0.0                    0.0                    0.0   \n",
      "8                     0.0                    0.0                    1.0   \n",
      "9                     1.0                    0.0                    0.0   \n",
      "10                    0.0                    0.0                    1.0   \n",
      "11                    0.0                    0.0                    1.0   \n",
      "12                    0.0                    0.0                    0.0   \n",
      "13                    0.0                    0.0                    0.0   \n",
      "14                    0.0                    0.0                    1.0   \n",
      "15                    0.0                    0.0                    1.0   \n",
      "16                    0.0                    0.0                    0.0   \n",
      "17                    0.0                    0.0                    0.0   \n",
      "18                    0.0                    0.0                    1.0   \n",
      "19                    1.0                    0.0                    0.0   \n",
      "20                    0.0                    0.0                    0.0   \n",
      "21                    0.0                    0.0                    0.0   \n",
      "22                    0.0                    1.0                    0.0   \n",
      "23                    0.0                    0.0                    0.0   \n",
      "24                    0.0                    0.0                    1.0   \n",
      "25                    0.0                    0.0                    1.0   \n",
      "26                    0.0                    0.0                    0.0   \n",
      "27                    0.0                    0.0                    0.0   \n",
      "28                    0.0                    1.0                    0.0   \n",
      "29                    0.0                    0.0                    0.0   \n",
      "30                    0.0                    0.0                    0.0   \n",
      "31                    1.0                    0.0                    0.0   \n",
      "32                    0.0                    1.0                    0.0   \n",
      "33                    0.0                    0.0                    0.0   \n",
      "34                    0.0                    0.0                    0.0   \n",
      "35                    0.0                    0.0                    0.0   \n",
      "36                    0.0                    0.0                    0.0   \n",
      "37                    0.0                    0.0                    0.0   \n",
      "38                    0.0                    0.0                    1.0   \n",
      "39                    1.0                    0.0                    0.0   \n",
      "\n",
      "    Sex_male_Embarked_C  Sex_male_Embarked_Q  Sex_male_Embarked_S  \\\n",
      "0                   0.0                  0.0                  1.0   \n",
      "1                   0.0                  0.0                  0.0   \n",
      "2                   0.0                  0.0                  0.0   \n",
      "3                   0.0                  0.0                  0.0   \n",
      "4                   0.0                  0.0                  1.0   \n",
      "5                   0.0                  1.0                  0.0   \n",
      "6                   0.0                  0.0                  1.0   \n",
      "7                   0.0                  0.0                  1.0   \n",
      "8                   0.0                  0.0                  0.0   \n",
      "9                   0.0                  0.0                  0.0   \n",
      "10                  0.0                  0.0                  0.0   \n",
      "11                  0.0                  0.0                  0.0   \n",
      "12                  0.0                  0.0                  1.0   \n",
      "13                  0.0                  0.0                  1.0   \n",
      "14                  0.0                  0.0                  0.0   \n",
      "15                  0.0                  0.0                  0.0   \n",
      "16                  0.0                  1.0                  0.0   \n",
      "17                  0.0                  0.0                  1.0   \n",
      "18                  0.0                  0.0                  0.0   \n",
      "19                  0.0                  0.0                  0.0   \n",
      "20                  0.0                  0.0                  1.0   \n",
      "21                  0.0                  0.0                  1.0   \n",
      "22                  0.0                  0.0                  0.0   \n",
      "23                  0.0                  0.0                  1.0   \n",
      "24                  0.0                  0.0                  0.0   \n",
      "25                  0.0                  0.0                  0.0   \n",
      "26                  1.0                  0.0                  0.0   \n",
      "27                  0.0                  0.0                  1.0   \n",
      "28                  0.0                  0.0                  0.0   \n",
      "29                  0.0                  0.0                  1.0   \n",
      "30                  1.0                  0.0                  0.0   \n",
      "31                  0.0                  0.0                  0.0   \n",
      "32                  0.0                  0.0                  0.0   \n",
      "33                  0.0                  0.0                  1.0   \n",
      "34                  1.0                  0.0                  0.0   \n",
      "35                  0.0                  0.0                  1.0   \n",
      "36                  1.0                  0.0                  0.0   \n",
      "37                  0.0                  0.0                  1.0   \n",
      "38                  0.0                  0.0                  0.0   \n",
      "39                  0.0                  0.0                  0.0   \n",
      "\n",
      "    Embarked_C_Embarked_Q  Embarked_C_Embarked_S  Embarked_Q_Embarked_S  \n",
      "0                     0.0                    0.0                    0.0  \n",
      "1                     0.0                    0.0                    0.0  \n",
      "2                     0.0                    0.0                    0.0  \n",
      "3                     0.0                    0.0                    0.0  \n",
      "4                     0.0                    0.0                    0.0  \n",
      "5                     0.0                    0.0                    0.0  \n",
      "6                     0.0                    0.0                    0.0  \n",
      "7                     0.0                    0.0                    0.0  \n",
      "8                     0.0                    0.0                    0.0  \n",
      "9                     0.0                    0.0                    0.0  \n",
      "10                    0.0                    0.0                    0.0  \n",
      "11                    0.0                    0.0                    0.0  \n",
      "12                    0.0                    0.0                    0.0  \n",
      "13                    0.0                    0.0                    0.0  \n",
      "14                    0.0                    0.0                    0.0  \n",
      "15                    0.0                    0.0                    0.0  \n",
      "16                    0.0                    0.0                    0.0  \n",
      "17                    0.0                    0.0                    0.0  \n",
      "18                    0.0                    0.0                    0.0  \n",
      "19                    0.0                    0.0                    0.0  \n",
      "20                    0.0                    0.0                    0.0  \n",
      "21                    0.0                    0.0                    0.0  \n",
      "22                    0.0                    0.0                    0.0  \n",
      "23                    0.0                    0.0                    0.0  \n",
      "24                    0.0                    0.0                    0.0  \n",
      "25                    0.0                    0.0                    0.0  \n",
      "26                    0.0                    0.0                    0.0  \n",
      "27                    0.0                    0.0                    0.0  \n",
      "28                    0.0                    0.0                    0.0  \n",
      "29                    0.0                    0.0                    0.0  \n",
      "30                    0.0                    0.0                    0.0  \n",
      "31                    0.0                    0.0                    0.0  \n",
      "32                    0.0                    0.0                    0.0  \n",
      "33                    0.0                    0.0                    0.0  \n",
      "34                    0.0                    0.0                    0.0  \n",
      "35                    0.0                    0.0                    0.0  \n",
      "36                    0.0                    0.0                    0.0  \n",
      "37                    0.0                    0.0                    0.0  \n",
      "38                    0.0                    0.0                    0.0  \n",
      "39                    0.0                    0.0                    0.0  \n",
      "\n",
      "[40 rows x 55 columns]\n"
     ]
    }
   ],
   "source": [
    "X = add_features(X)\n",
    "print(X.head(40))"
   ]
  },
  {
   "cell_type": "code",
   "execution_count": 30,
   "metadata": {},
   "outputs": [],
   "source": [
    "X.to_csv(\"ready_data.csv\", encoding='utf-8', index=False)"
   ]
  },
  {
   "cell_type": "code",
   "execution_count": 32,
   "metadata": {},
   "outputs": [
    {
     "data": {
      "text/html": [
       "<div>\n",
       "<style>\n",
       "    .dataframe thead tr:only-child th {\n",
       "        text-align: right;\n",
       "    }\n",
       "\n",
       "    .dataframe thead th {\n",
       "        text-align: left;\n",
       "    }\n",
       "\n",
       "    .dataframe tbody tr th {\n",
       "        vertical-align: top;\n",
       "    }\n",
       "</style>\n",
       "<table border=\"1\" class=\"dataframe\">\n",
       "  <thead>\n",
       "    <tr style=\"text-align: right;\">\n",
       "      <th></th>\n",
       "      <th>Pclass</th>\n",
       "      <th>Age</th>\n",
       "      <th>SibSp</th>\n",
       "      <th>Parch</th>\n",
       "      <th>Fare</th>\n",
       "      <th>Sex_female</th>\n",
       "      <th>Sex_male</th>\n",
       "      <th>Embarked_C</th>\n",
       "      <th>Embarked_Q</th>\n",
       "      <th>Embarked_S</th>\n",
       "      <th>...</th>\n",
       "      <th>Sex_female_Sex_male</th>\n",
       "      <th>Sex_female_Embarked_C</th>\n",
       "      <th>Sex_female_Embarked_Q</th>\n",
       "      <th>Sex_female_Embarked_S</th>\n",
       "      <th>Sex_male_Embarked_C</th>\n",
       "      <th>Sex_male_Embarked_Q</th>\n",
       "      <th>Sex_male_Embarked_S</th>\n",
       "      <th>Embarked_C_Embarked_Q</th>\n",
       "      <th>Embarked_C_Embarked_S</th>\n",
       "      <th>Embarked_Q_Embarked_S</th>\n",
       "    </tr>\n",
       "  </thead>\n",
       "  <tbody>\n",
       "    <tr>\n",
       "      <th>0</th>\n",
       "      <td>3.0</td>\n",
       "      <td>22.0</td>\n",
       "      <td>1.0</td>\n",
       "      <td>0.0</td>\n",
       "      <td>7.2500</td>\n",
       "      <td>0.0</td>\n",
       "      <td>1.0</td>\n",
       "      <td>0.0</td>\n",
       "      <td>0.0</td>\n",
       "      <td>1.0</td>\n",
       "      <td>...</td>\n",
       "      <td>0.0</td>\n",
       "      <td>0.0</td>\n",
       "      <td>0.0</td>\n",
       "      <td>0.0</td>\n",
       "      <td>0.0</td>\n",
       "      <td>0.0</td>\n",
       "      <td>1.0</td>\n",
       "      <td>0.0</td>\n",
       "      <td>0.0</td>\n",
       "      <td>0.0</td>\n",
       "    </tr>\n",
       "    <tr>\n",
       "      <th>1</th>\n",
       "      <td>1.0</td>\n",
       "      <td>38.0</td>\n",
       "      <td>1.0</td>\n",
       "      <td>0.0</td>\n",
       "      <td>71.2833</td>\n",
       "      <td>1.0</td>\n",
       "      <td>0.0</td>\n",
       "      <td>1.0</td>\n",
       "      <td>0.0</td>\n",
       "      <td>0.0</td>\n",
       "      <td>...</td>\n",
       "      <td>0.0</td>\n",
       "      <td>1.0</td>\n",
       "      <td>0.0</td>\n",
       "      <td>0.0</td>\n",
       "      <td>0.0</td>\n",
       "      <td>0.0</td>\n",
       "      <td>0.0</td>\n",
       "      <td>0.0</td>\n",
       "      <td>0.0</td>\n",
       "      <td>0.0</td>\n",
       "    </tr>\n",
       "    <tr>\n",
       "      <th>2</th>\n",
       "      <td>3.0</td>\n",
       "      <td>26.0</td>\n",
       "      <td>0.0</td>\n",
       "      <td>0.0</td>\n",
       "      <td>7.9250</td>\n",
       "      <td>1.0</td>\n",
       "      <td>0.0</td>\n",
       "      <td>0.0</td>\n",
       "      <td>0.0</td>\n",
       "      <td>1.0</td>\n",
       "      <td>...</td>\n",
       "      <td>0.0</td>\n",
       "      <td>0.0</td>\n",
       "      <td>0.0</td>\n",
       "      <td>1.0</td>\n",
       "      <td>0.0</td>\n",
       "      <td>0.0</td>\n",
       "      <td>0.0</td>\n",
       "      <td>0.0</td>\n",
       "      <td>0.0</td>\n",
       "      <td>0.0</td>\n",
       "    </tr>\n",
       "    <tr>\n",
       "      <th>3</th>\n",
       "      <td>1.0</td>\n",
       "      <td>35.0</td>\n",
       "      <td>1.0</td>\n",
       "      <td>0.0</td>\n",
       "      <td>53.1000</td>\n",
       "      <td>1.0</td>\n",
       "      <td>0.0</td>\n",
       "      <td>0.0</td>\n",
       "      <td>0.0</td>\n",
       "      <td>1.0</td>\n",
       "      <td>...</td>\n",
       "      <td>0.0</td>\n",
       "      <td>0.0</td>\n",
       "      <td>0.0</td>\n",
       "      <td>1.0</td>\n",
       "      <td>0.0</td>\n",
       "      <td>0.0</td>\n",
       "      <td>0.0</td>\n",
       "      <td>0.0</td>\n",
       "      <td>0.0</td>\n",
       "      <td>0.0</td>\n",
       "    </tr>\n",
       "    <tr>\n",
       "      <th>4</th>\n",
       "      <td>3.0</td>\n",
       "      <td>35.0</td>\n",
       "      <td>0.0</td>\n",
       "      <td>0.0</td>\n",
       "      <td>8.0500</td>\n",
       "      <td>0.0</td>\n",
       "      <td>1.0</td>\n",
       "      <td>0.0</td>\n",
       "      <td>0.0</td>\n",
       "      <td>1.0</td>\n",
       "      <td>...</td>\n",
       "      <td>0.0</td>\n",
       "      <td>0.0</td>\n",
       "      <td>0.0</td>\n",
       "      <td>0.0</td>\n",
       "      <td>0.0</td>\n",
       "      <td>0.0</td>\n",
       "      <td>1.0</td>\n",
       "      <td>0.0</td>\n",
       "      <td>0.0</td>\n",
       "      <td>0.0</td>\n",
       "    </tr>\n",
       "    <tr>\n",
       "      <th>5</th>\n",
       "      <td>3.0</td>\n",
       "      <td>28.0</td>\n",
       "      <td>0.0</td>\n",
       "      <td>0.0</td>\n",
       "      <td>8.4583</td>\n",
       "      <td>0.0</td>\n",
       "      <td>1.0</td>\n",
       "      <td>0.0</td>\n",
       "      <td>1.0</td>\n",
       "      <td>0.0</td>\n",
       "      <td>...</td>\n",
       "      <td>0.0</td>\n",
       "      <td>0.0</td>\n",
       "      <td>0.0</td>\n",
       "      <td>0.0</td>\n",
       "      <td>0.0</td>\n",
       "      <td>1.0</td>\n",
       "      <td>0.0</td>\n",
       "      <td>0.0</td>\n",
       "      <td>0.0</td>\n",
       "      <td>0.0</td>\n",
       "    </tr>\n",
       "    <tr>\n",
       "      <th>6</th>\n",
       "      <td>1.0</td>\n",
       "      <td>54.0</td>\n",
       "      <td>0.0</td>\n",
       "      <td>0.0</td>\n",
       "      <td>51.8625</td>\n",
       "      <td>0.0</td>\n",
       "      <td>1.0</td>\n",
       "      <td>0.0</td>\n",
       "      <td>0.0</td>\n",
       "      <td>1.0</td>\n",
       "      <td>...</td>\n",
       "      <td>0.0</td>\n",
       "      <td>0.0</td>\n",
       "      <td>0.0</td>\n",
       "      <td>0.0</td>\n",
       "      <td>0.0</td>\n",
       "      <td>0.0</td>\n",
       "      <td>1.0</td>\n",
       "      <td>0.0</td>\n",
       "      <td>0.0</td>\n",
       "      <td>0.0</td>\n",
       "    </tr>\n",
       "    <tr>\n",
       "      <th>7</th>\n",
       "      <td>3.0</td>\n",
       "      <td>2.0</td>\n",
       "      <td>3.0</td>\n",
       "      <td>1.0</td>\n",
       "      <td>21.0750</td>\n",
       "      <td>0.0</td>\n",
       "      <td>1.0</td>\n",
       "      <td>0.0</td>\n",
       "      <td>0.0</td>\n",
       "      <td>1.0</td>\n",
       "      <td>...</td>\n",
       "      <td>0.0</td>\n",
       "      <td>0.0</td>\n",
       "      <td>0.0</td>\n",
       "      <td>0.0</td>\n",
       "      <td>0.0</td>\n",
       "      <td>0.0</td>\n",
       "      <td>1.0</td>\n",
       "      <td>0.0</td>\n",
       "      <td>0.0</td>\n",
       "      <td>0.0</td>\n",
       "    </tr>\n",
       "    <tr>\n",
       "      <th>8</th>\n",
       "      <td>3.0</td>\n",
       "      <td>27.0</td>\n",
       "      <td>0.0</td>\n",
       "      <td>2.0</td>\n",
       "      <td>11.1333</td>\n",
       "      <td>1.0</td>\n",
       "      <td>0.0</td>\n",
       "      <td>0.0</td>\n",
       "      <td>0.0</td>\n",
       "      <td>1.0</td>\n",
       "      <td>...</td>\n",
       "      <td>0.0</td>\n",
       "      <td>0.0</td>\n",
       "      <td>0.0</td>\n",
       "      <td>1.0</td>\n",
       "      <td>0.0</td>\n",
       "      <td>0.0</td>\n",
       "      <td>0.0</td>\n",
       "      <td>0.0</td>\n",
       "      <td>0.0</td>\n",
       "      <td>0.0</td>\n",
       "    </tr>\n",
       "    <tr>\n",
       "      <th>9</th>\n",
       "      <td>2.0</td>\n",
       "      <td>14.0</td>\n",
       "      <td>1.0</td>\n",
       "      <td>0.0</td>\n",
       "      <td>30.0708</td>\n",
       "      <td>1.0</td>\n",
       "      <td>0.0</td>\n",
       "      <td>1.0</td>\n",
       "      <td>0.0</td>\n",
       "      <td>0.0</td>\n",
       "      <td>...</td>\n",
       "      <td>0.0</td>\n",
       "      <td>1.0</td>\n",
       "      <td>0.0</td>\n",
       "      <td>0.0</td>\n",
       "      <td>0.0</td>\n",
       "      <td>0.0</td>\n",
       "      <td>0.0</td>\n",
       "      <td>0.0</td>\n",
       "      <td>0.0</td>\n",
       "      <td>0.0</td>\n",
       "    </tr>\n",
       "  </tbody>\n",
       "</table>\n",
       "<p>10 rows × 55 columns</p>\n",
       "</div>"
      ],
      "text/plain": [
       "   Pclass   Age  SibSp  Parch     Fare  Sex_female  Sex_male  Embarked_C  \\\n",
       "0     3.0  22.0    1.0    0.0   7.2500         0.0       1.0         0.0   \n",
       "1     1.0  38.0    1.0    0.0  71.2833         1.0       0.0         1.0   \n",
       "2     3.0  26.0    0.0    0.0   7.9250         1.0       0.0         0.0   \n",
       "3     1.0  35.0    1.0    0.0  53.1000         1.0       0.0         0.0   \n",
       "4     3.0  35.0    0.0    0.0   8.0500         0.0       1.0         0.0   \n",
       "5     3.0  28.0    0.0    0.0   8.4583         0.0       1.0         0.0   \n",
       "6     1.0  54.0    0.0    0.0  51.8625         0.0       1.0         0.0   \n",
       "7     3.0   2.0    3.0    1.0  21.0750         0.0       1.0         0.0   \n",
       "8     3.0  27.0    0.0    2.0  11.1333         1.0       0.0         0.0   \n",
       "9     2.0  14.0    1.0    0.0  30.0708         1.0       0.0         1.0   \n",
       "\n",
       "   Embarked_Q  Embarked_S          ...            Sex_female_Sex_male  \\\n",
       "0         0.0         1.0          ...                            0.0   \n",
       "1         0.0         0.0          ...                            0.0   \n",
       "2         0.0         1.0          ...                            0.0   \n",
       "3         0.0         1.0          ...                            0.0   \n",
       "4         0.0         1.0          ...                            0.0   \n",
       "5         1.0         0.0          ...                            0.0   \n",
       "6         0.0         1.0          ...                            0.0   \n",
       "7         0.0         1.0          ...                            0.0   \n",
       "8         0.0         1.0          ...                            0.0   \n",
       "9         0.0         0.0          ...                            0.0   \n",
       "\n",
       "   Sex_female_Embarked_C  Sex_female_Embarked_Q  Sex_female_Embarked_S  \\\n",
       "0                    0.0                    0.0                    0.0   \n",
       "1                    1.0                    0.0                    0.0   \n",
       "2                    0.0                    0.0                    1.0   \n",
       "3                    0.0                    0.0                    1.0   \n",
       "4                    0.0                    0.0                    0.0   \n",
       "5                    0.0                    0.0                    0.0   \n",
       "6                    0.0                    0.0                    0.0   \n",
       "7                    0.0                    0.0                    0.0   \n",
       "8                    0.0                    0.0                    1.0   \n",
       "9                    1.0                    0.0                    0.0   \n",
       "\n",
       "   Sex_male_Embarked_C  Sex_male_Embarked_Q  Sex_male_Embarked_S  \\\n",
       "0                  0.0                  0.0                  1.0   \n",
       "1                  0.0                  0.0                  0.0   \n",
       "2                  0.0                  0.0                  0.0   \n",
       "3                  0.0                  0.0                  0.0   \n",
       "4                  0.0                  0.0                  1.0   \n",
       "5                  0.0                  1.0                  0.0   \n",
       "6                  0.0                  0.0                  1.0   \n",
       "7                  0.0                  0.0                  1.0   \n",
       "8                  0.0                  0.0                  0.0   \n",
       "9                  0.0                  0.0                  0.0   \n",
       "\n",
       "   Embarked_C_Embarked_Q  Embarked_C_Embarked_S  Embarked_Q_Embarked_S  \n",
       "0                    0.0                    0.0                    0.0  \n",
       "1                    0.0                    0.0                    0.0  \n",
       "2                    0.0                    0.0                    0.0  \n",
       "3                    0.0                    0.0                    0.0  \n",
       "4                    0.0                    0.0                    0.0  \n",
       "5                    0.0                    0.0                    0.0  \n",
       "6                    0.0                    0.0                    0.0  \n",
       "7                    0.0                    0.0                    0.0  \n",
       "8                    0.0                    0.0                    0.0  \n",
       "9                    0.0                    0.0                    0.0  \n",
       "\n",
       "[10 rows x 55 columns]"
      ]
     },
     "execution_count": 32,
     "metadata": {},
     "output_type": "execute_result"
    }
   ],
   "source": [
    "ready_data = pd.read_csv(\"ready_data.csv\")\n",
    "ready_data.head(10)"
   ]
  },
  {
   "cell_type": "code",
   "execution_count": 27,
   "metadata": {
    "collapsed": true
   },
   "outputs": [],
   "source": [
    "# Feature selection and model building\n",
    "# first split out data into trains and tests\n",
    "from sklearn.model_selection import train_test_split\n",
    "X_train, X_test, y_train, y_test = train_test_split(X,y, test_size=0.20, random_state=1)"
   ]
  },
  {
   "cell_type": "code",
   "execution_count": 54,
   "metadata": {
    "scrolled": true
   },
   "outputs": [
    {
     "name": "stdout",
     "output_type": "stream",
     "text": [
      "(891, 8)\n",
      "(891, 55)\n"
     ]
    }
   ],
   "source": [
    "#let's see how our data grow\n",
    "print(d_train.shape)\n",
    "print(X.shape)"
   ]
  },
  {
   "cell_type": "code",
   "execution_count": 55,
   "metadata": {},
   "outputs": [
    {
     "name": "stderr",
     "output_type": "stream",
     "text": [
      "C:\\Users\\Saleban\\Anaconda3\\lib\\site-packages\\sklearn\\feature_selection\\univariate_selection.py:113: UserWarning: Features [45 52 53 54] are constant.\n",
      "  UserWarning)\n",
      "C:\\Users\\Saleban\\Anaconda3\\lib\\site-packages\\sklearn\\feature_selection\\univariate_selection.py:114: RuntimeWarning: invalid value encountered in true_divide\n",
      "  f = msb / msw\n"
     ]
    }
   ],
   "source": [
    "import sklearn.feature_selection\n",
    "select = sklearn.feature_selection.SelectKBest(k=20)\n",
    "selected_features =select.fit(X_train, y_train)\n",
    "indices_selected = selected_features.get_support(indices=True)\n",
    "colnames_selected = [X.columns[i] for i in indices_selected]\n",
    "\n",
    "X_train_selected = X_train[colnames_selected]\n",
    "X_test_selected = X_test[colnames_selected]"
   ]
  },
  {
   "cell_type": "code",
   "execution_count": 56,
   "metadata": {},
   "outputs": [
    {
     "name": "stdout",
     "output_type": "stream",
     "text": [
      "['Pclass', 'Fare', 'Sex_female', 'Sex_male', 'Embarked_C', 'Pclass_Age', 'Pclass_Fare', 'Pclass_Sex_female', 'Pclass_Sex_male', 'Pclass_Embarked_S', 'Age_Fare', 'Age_Sex_female', 'Age_Sex_male', 'SibSp_Embarked_C', 'Fare_Sex_female', 'Fare_Embarked_C', 'Sex_female_Embarked_C', 'Sex_female_Embarked_Q', 'Sex_female_Embarked_S', 'Sex_male_Embarked_S']\n"
     ]
    }
   ],
   "source": [
    "print(colnames_selected)"
   ]
  },
  {
   "cell_type": "code",
   "execution_count": null,
   "metadata": {
    "collapsed": true
   },
   "outputs": [],
   "source": []
  },
  {
   "cell_type": "code",
   "execution_count": null,
   "metadata": {
    "collapsed": true
   },
   "outputs": [],
   "source": []
  },
  {
   "cell_type": "code",
   "execution_count": null,
   "metadata": {
    "collapsed": true
   },
   "outputs": [],
   "source": []
  },
  {
   "cell_type": "code",
   "execution_count": null,
   "metadata": {
    "collapsed": true
   },
   "outputs": [],
   "source": []
  },
  {
   "cell_type": "code",
   "execution_count": 57,
   "metadata": {
    "collapsed": true
   },
   "outputs": [],
   "source": [
    "# build model\n",
    "from sklearn.linear_model import LogisticRegression\n",
    "from sklearn.metrics import roc_auc_score\n",
    "\n",
    "def find_model_perf(X_train, y_train, X_test, y_test):\n",
    "    model = LogisticRegression()\n",
    "    model.fit(X_train, y_train)\n",
    "    y_hat = [x[1] for x in model.predict_proba(X_test)]\n",
    "    auc = roc_auc_score(y_test, y_hat)\n",
    "    \n",
    "    return auc"
   ]
  },
  {
   "cell_type": "code",
   "execution_count": 58,
   "metadata": {},
   "outputs": [
    {
     "name": "stdout",
     "output_type": "stream",
     "text": [
      "0.843693460843\n"
     ]
    }
   ],
   "source": [
    "auc_processed = find_model_perf(X_train, y_train, X_test, y_test)\n",
    "print(auc_processed)"
   ]
  },
  {
   "cell_type": "code",
   "execution_count": 59,
   "metadata": {},
   "outputs": [
    {
     "data": {
      "text/plain": [
       "0.843693460842595"
      ]
     },
     "execution_count": 59,
     "metadata": {},
     "output_type": "execute_result"
    }
   ],
   "source": [
    "auc_processed.item()"
   ]
  },
  {
   "cell_type": "code",
   "execution_count": 60,
   "metadata": {
    "collapsed": true
   },
   "outputs": [],
   "source": [
    "pred = pd.read_csv(\"data/gender_submission.csv\")\n",
    "test"
   ]
  },
  {
   "cell_type": "code",
   "execution_count": 64,
   "metadata": {},
   "outputs": [
    {
     "name": "stdout",
     "output_type": "stream",
     "text": [
      "(418, 2)\n"
     ]
    }
   ],
   "source": [
    "print(pred.shape)\n",
    "print(d)"
   ]
  },
  {
   "cell_type": "code",
   "execution_count": null,
   "metadata": {
    "collapsed": true
   },
   "outputs": [],
   "source": []
  }
 ],
 "metadata": {
  "kernelspec": {
   "display_name": "Python 3",
   "language": "python",
   "name": "python3"
  },
  "language_info": {
   "codemirror_mode": {
    "name": "ipython",
    "version": 3
   },
   "file_extension": ".py",
   "mimetype": "text/x-python",
   "name": "python",
   "nbconvert_exporter": "python",
   "pygments_lexer": "ipython3",
   "version": "3.6.1"
  }
 },
 "nbformat": 4,
 "nbformat_minor": 2
}
